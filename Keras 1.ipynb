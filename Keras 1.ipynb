{
 "cells": [
  {
   "cell_type": "code",
   "execution_count": 45,
   "metadata": {},
   "outputs": [],
   "source": [
    "import numpy as np\n",
    "np.random.seed(123)  # for reproducibility\n",
    "from keras.models import Sequential\n",
    "from keras.layers import Dense, Dropout, Activation, Flatten\n",
    "from keras.layers import Convolution2D, MaxPooling2D\n",
    "from keras.utils import np_utils\n",
    "from keras.datasets import mnist, cifar10\n",
    "from matplotlib import pyplot as plt\n",
    "\n",
    "%matplotlib inline"
   ]
  },
  {
   "cell_type": "code",
   "execution_count": 15,
   "metadata": {},
   "outputs": [],
   "source": [
    "# Load pre-shuffled MNIST data into train and test sets\n",
    "\n",
    "(X_train, y_train), (X_test, y_test) = mnist.load_data() \n",
    "\n",
    "#\n",
    "# Preprocessing\n",
    "#\n",
    "\n",
    "# Reshape to define depth for images. Our images have a depth of 1, most images use 3 channels so their depth is 3\n",
    "X_train = X_train.reshape(X_train.shape[0], 1, 28, 28)\n",
    "X_test = X_test.reshape(X_test.shape[0], 1, 28, 28)\n",
    "\n",
    "# Convert datatype to float32 and normalize data values to range (0, 1)\n",
    "X_train = X_train.astype('float32')\n",
    "X_test = X_test.astype('float32')\n",
    "X_train /= 255\n",
    "X_test /= 255"
   ]
  },
  {
   "cell_type": "code",
   "execution_count": 20,
   "metadata": {},
   "outputs": [],
   "source": [
    "# We want 10 different classes in y. \n",
    "# So we're going to convert a 1-dimensional array to 10-dimensional matrix\n",
    "y_train = np_utils.to_categorical(y_train, 10)\n",
    "y_test = np_utils.to_categorical(y_test, 10)"
   ]
  },
  {
   "cell_type": "code",
   "execution_count": 40,
   "metadata": {},
   "outputs": [],
   "source": [
    "#\n",
    "# Define model architecture. Usually, researchers spend a lot of time optimizing this. \n",
    "# You can also replicate proven architectures from academic papers. \n",
    "#\n",
    "\n",
    "# Declare Sequential model\n",
    "model = Sequential()\n",
    "\n",
    "# CNN input layer\n",
    "model.add(Convolution2D(32, (3, 3), activation='relu', input_shape=(1, 28, 28), data_format='channels_first'))\n",
    "model.add(Convolution2D(32, (3, 3), activation='relu'))\n",
    "model.add(MaxPooling2D(pool_size=(2,2)))\n",
    "model.add(Dropout(0.25))\n",
    "\n",
    "model.add(Flatten())\n",
    "model.add(Dense(128, activation='relu'))\n",
    "model.add(Dropout(0.5))\n",
    "model.add(Dense(10, activation='softmax'))\n",
    "\n",
    "# Define loss function and optimizer. \n",
    "model.compile(loss='categorical_crossentropy',\n",
    "             optimizer='adam',\n",
    "             metrics=['accuracy'])"
   ]
  },
  {
   "cell_type": "code",
   "execution_count": 41,
   "metadata": {},
   "outputs": [
    {
     "name": "stdout",
     "output_type": "stream",
     "text": [
      "Epoch 1/10\n",
      "60000/60000 [==============================] - 125s - loss: 0.2634 - acc: 0.9205   \n",
      "Epoch 2/10\n",
      "60000/60000 [==============================] - 122s - loss: 0.1089 - acc: 0.9682   \n",
      "Epoch 3/10\n",
      "60000/60000 [==============================] - 130s - loss: 0.0819 - acc: 0.9756   - ETA: 0s - loss: 0.0817\n",
      "Epoch 4/10\n",
      "60000/60000 [==============================] - 133s - loss: 0.0693 - acc: 0.9790   \n",
      "Epoch 5/10\n",
      "60000/60000 [==============================] - 124s - loss: 0.0612 - acc: 0.9814   - ETA: 1s - l\n",
      "Epoch 6/10\n",
      "60000/60000 [==============================] - 120s - loss: 0.0538 - acc: 0.9835   \n",
      "Epoch 7/10\n",
      "60000/60000 [==============================] - 120s - loss: 0.0490 - acc: 0.9851   - ETA: 0s - loss: 0.0490 - a\n",
      "Epoch 8/10\n",
      "60000/60000 [==============================] - 133s - loss: 0.0451 - acc: 0.9860   \n",
      "Epoch 9/10\n",
      "60000/60000 [==============================] - 134s - loss: 0.0397 - acc: 0.9875   - ETA: 0s - loss: 0.0397 - acc: \n",
      "Epoch 10/10\n",
      "60000/60000 [==============================] - 137s - loss: 0.0368 - acc: 0.9879   \n"
     ]
    },
    {
     "data": {
      "text/plain": [
       "<keras.callbacks.History at 0x335aa24e0>"
      ]
     },
     "execution_count": 41,
     "metadata": {},
     "output_type": "execute_result"
    }
   ],
   "source": [
    "model.fit(X_train, y_train, batch_size=32, epochs=10, verbose=1)"
   ]
  },
  {
   "cell_type": "code",
   "execution_count": 44,
   "metadata": {},
   "outputs": [
    {
     "name": "stdout",
     "output_type": "stream",
     "text": [
      " 9952/10000 [============================>.] - ETA: 0s"
     ]
    }
   ],
   "source": [
    "score = model.evaluate(X_test, Y_test, verbose=1)"
   ]
  },
  {
   "cell_type": "code",
   "execution_count": 43,
   "metadata": {},
   "outputs": [
    {
     "name": "stdout",
     "output_type": "stream",
     "text": [
      "[0.025837985402318735, 0.99129999999999996]\n"
     ]
    }
   ],
   "source": [
    "print(score)"
   ]
  },
  {
   "cell_type": "code",
   "execution_count": null,
   "metadata": {
    "collapsed": true
   },
   "outputs": [],
   "source": []
  },
  {
   "cell_type": "code",
   "execution_count": 46,
   "metadata": {},
   "outputs": [
    {
     "name": "stdout",
     "output_type": "stream",
     "text": [
      "Downloading data from http://www.cs.toronto.edu/~kriz/cifar-10-python.tar.gz\n",
      "170491904/170498071 [============================>.] - ETA: 0s"
     ]
    }
   ],
   "source": [
    "#\n",
    "# Cifar 10 images.\n",
    "#\n",
    "\n",
    "# Load pre-shuffled MNIST data into train and test sets\n",
    "\n",
    "(X_train, y_train), (X_test, y_test) = cifar10.load_data() \n",
    "\n",
    "#\n",
    "# Preprocessing\n",
    "#\n",
    "\n",
    "# Reshape to define depth for images. \n",
    "X_train = X_train.reshape(X_train.shape[0], 3, 32, 32)\n",
    "X_test = X_test.reshape(X_test.shape[0], 3, 32, 32)\n",
    "\n",
    "# Convert datatype to float32 and normalize data values to range (0, 1)\n",
    "X_train = X_train.astype('float32')\n",
    "X_test = X_test.astype('float32')\n",
    "X_train /= 255\n",
    "X_test /= 255"
   ]
  },
  {
   "cell_type": "code",
   "execution_count": null,
   "metadata": {
    "collapsed": true
   },
   "outputs": [],
   "source": []
  }
 ],
 "metadata": {
  "kernelspec": {
   "display_name": "Python 3",
   "language": "python",
   "name": "python3"
  },
  "language_info": {
   "codemirror_mode": {
    "name": "ipython",
    "version": 3
   },
   "file_extension": ".py",
   "mimetype": "text/x-python",
   "name": "python",
   "nbconvert_exporter": "python",
   "pygments_lexer": "ipython3",
   "version": "3.6.2"
  }
 },
 "nbformat": 4,
 "nbformat_minor": 2
}
