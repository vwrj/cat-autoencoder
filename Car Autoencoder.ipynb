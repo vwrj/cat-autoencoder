{
 "cells": [
  {
   "cell_type": "markdown",
   "metadata": {},
   "source": [
    "# Car Autoencoder (CIFAR-10)"
   ]
  },
  {
   "cell_type": "code",
   "execution_count": 147,
   "metadata": {
    "collapsed": true
   },
   "outputs": [],
   "source": [
    "# import\n",
    "from keras.layers import Input, Dense, Conv2D, Conv3D, MaxPooling2D, UpSampling2D, Flatten\n",
    "from keras.models import Model, load_model \n",
    "from keras.datasets import mnist, cifar10\n",
    "import random as random\n",
    "import numpy as np\n",
    "import matplotlib.pyplot as plt\n",
    "import os\n",
    "import cv2\n",
    "\n",
    "# constants\n",
    "IMG_SIZE = 32\n",
    "NUM_CHANNELS = 3"
   ]
  },
  {
   "cell_type": "markdown",
   "metadata": {},
   "source": [
    "## Training Data"
   ]
  },
  {
   "cell_type": "markdown",
   "metadata": {},
   "source": [
    "#### Load CIFAR-10 "
   ]
  },
  {
   "cell_type": "code",
   "execution_count": 356,
   "metadata": {},
   "outputs": [],
   "source": [
    "def get_CIFAR10():\n",
    "    (x_train, y_train), (x_test, y_test) = cifar10.load_data()\n",
    "\n",
    "    # Pixel values go from 0 to 255. \n",
    "    x_train = x_train.astype('float32') / 255.\n",
    "    x_test = x_test.astype('float32') / 255.\n",
    "    \n",
    "    return (x_train, y_train, x_test, y_test)"
   ]
  },
  {
   "cell_type": "code",
   "execution_count": null,
   "metadata": {
    "collapsed": true
   },
   "outputs": [],
   "source": [
    "full_x_train = x_train\n",
    "full_y_train = y_train\n",
    "\n",
    "full_x_test = x_test\n",
    "full_y_test = y_test\n",
    "\n",
    "# Images are 32x32x3 -- flatten them. \n",
    "img_dims = x_train.shape[1:]\n",
    "\n",
    "print(x_train.shape)\n",
    "print(x_test.shape)"
   ]
  },
  {
   "cell_type": "markdown",
   "metadata": {},
   "source": [
    "#### Select 'car' images"
   ]
  },
  {
   "cell_type": "code",
   "execution_count": 357,
   "metadata": {},
   "outputs": [],
   "source": [
    "def select_car_images():\n",
    "    (x_train, y_train, x_test, y_test) = get_CIFAR10()\n",
    "\n",
    "    # we only want 'car' images (labeled 1): filter the rest out\n",
    "    not_cars = np.where(y_train!=1)[0]\n",
    "    x_train = np.delete(x_train, not_cars, axis=0)\n",
    "    y_train = np.delete(y_train, not_cars, axis=0)\n",
    "\n",
    "    not_cars = np.where(y_test!=1)[0]\n",
    "    x_test = np.delete(x_test, not_cars, axis=0)\n",
    "    y_test = np.delete(y_test, not_cars, axis=0)\n",
    "    \n",
    "    return (x_train, y_train, x_test, y_test)"
   ]
  },
  {
   "cell_type": "code",
   "execution_count": 361,
   "metadata": {},
   "outputs": [
    {
     "data": {
      "image/png": "[encoded data removed]",
      "text/plain": [
       "<matplotlib.figure.Figure at 0x34d024b70>"
      ]
     },
     "metadata": {},
     "output_type": "display_data"
    }
   ],
   "source": [
    "# verify\n",
    "(x_train, _, _, _) = select_car_images()\n",
    "r = random.randint(0, x_train.shape[0]-1)\n",
    "plt.imshow(x_train[r].reshape(IMG_SIZE, IMG_SIZE, 3))\n",
    "plt.show()"
   ]
  },
  {
   "cell_type": "markdown",
   "metadata": {},
   "source": [
    "#### Augment training data with rotations and flips"
   ]
  },
  {
   "cell_type": "code",
   "execution_count": 27,
   "metadata": {
    "collapsed": true
   },
   "outputs": [],
   "source": [
    "# Run this after creating a clean augmented_images/ directory. \n",
    "\n",
    "from keras.preprocessing.image import ImageDataGenerator\n",
    "\n",
    "datagen = ImageDataGenerator(\n",
    "    rescale=1./255,\n",
    "    rotation_range=30,\n",
    "    zoom_range=[0.5, 1],\n",
    "    width_shift_range=0.4,\n",
    "    height_shift_range=0.4,\n",
    "    horizontal_flip=True)\n",
    "\n",
    "datagen.fit(x_train)\n",
    "\n",
    "i = 0\n",
    "\n",
    "for batch in datagen.flow(x_train, \n",
    "                          batch_size=256, \n",
    "                          save_to_dir='/Users/vwr/augmented_images/',\n",
    "                          save_prefix='car',\n",
    "                          save_format='jpeg'):\n",
    "    i += 1\n",
    "    if i > 20:\n",
    "        break # otherwise the generator would loop indefinitely"
   ]
  },
  {
   "cell_type": "code",
   "execution_count": 63,
   "metadata": {},
   "outputs": [
    {
     "name": "stdout",
     "output_type": "stream",
     "text": [
      "Fetching and processing images from directory:  /Users/vwr/augmented_images/\n",
      "Saved training data into:  augmented_car_train.npy\n",
      "Shape of training data: (5256, 32, 32, 3)\n"
     ]
    }
   ],
   "source": [
    "from image_utils import get_images_train\n",
    "\n",
    "augmented_car_train = get_images_train('augmented_car_train.npy', \n",
    "                             train_dir = '/Users/vwr/augmented_images/',\n",
    "                             refresh=True)"
   ]
  },
  {
   "cell_type": "markdown",
   "metadata": {},
   "source": [
    "#### Create final training data"
   ]
  },
  {
   "cell_type": "code",
   "execution_count": 64,
   "metadata": {},
   "outputs": [
    {
     "name": "stdout",
     "output_type": "stream",
     "text": [
      "(10256, 32, 32, 3)\n"
     ]
    }
   ],
   "source": [
    "car_train = np.concatenate((x_train, augmented_car_train), axis = 0)\n",
    "print(car_train.shape)"
   ]
  },
  {
   "cell_type": "markdown",
   "metadata": {},
   "source": [
    " \n",
    " "
   ]
  },
  {
   "cell_type": "markdown",
   "metadata": {},
   "source": [
    "## Convolutional encoder + Dense decoder"
   ]
  },
  {
   "cell_type": "code",
   "execution_count": 66,
   "metadata": {},
   "outputs": [
    {
     "name": "stdout",
     "output_type": "stream",
     "text": [
      "_________________________________________________________________\n",
      "Layer (type)                 Output Shape              Param #   \n",
      "=================================================================\n",
      "input_4 (InputLayer)         (None, 32, 32, 3)         0         \n",
      "_________________________________________________________________\n",
      "conv1 (Conv2D)               (None, 32, 32, 32)        896       \n",
      "_________________________________________________________________\n",
      "max_pooling2d_10 (MaxPooling (None, 16, 16, 32)        0         \n",
      "_________________________________________________________________\n",
      "conv2 (Conv2D)               (None, 16, 16, 64)        18496     \n",
      "_________________________________________________________________\n",
      "max_pooling2d_11 (MaxPooling (None, 8, 8, 64)          0         \n",
      "_________________________________________________________________\n",
      "conv3 (Conv2D)               (None, 8, 8, 128)         73856     \n",
      "_________________________________________________________________\n",
      "max_pooling2d_12 (MaxPooling (None, 4, 4, 128)         0         \n",
      "_________________________________________________________________\n",
      "flatten_4 (Flatten)          (None, 2048)              0         \n",
      "_________________________________________________________________\n",
      "dense_4 (Dense)              (None, 3072)              6294528   \n",
      "_________________________________________________________________\n",
      "reshape_4 (Reshape)          (None, 32, 32, 3)         0         \n",
      "=================================================================\n",
      "Total params: 6,387,776\n",
      "Trainable params: 6,387,776\n",
      "Non-trainable params: 0\n",
      "_________________________________________________________________\n"
     ]
    }
   ],
   "source": [
    "from keras.layers import Reshape\n",
    "from keras.optimizers import Adam\n",
    "\n",
    "input_img = Input(shape=(IMG_SIZE, IMG_SIZE, NUM_CHANNELS))\n",
    "\n",
    "# build the network\n",
    "x = Conv2D(32, (3, 3), activation='relu', padding='same', name='conv1')(input_img)\n",
    "x = MaxPooling2D((2, 2), padding='same')(x)\n",
    "x = Conv2D(64, (3, 3), activation='relu', padding='same', name='conv2')(x)\n",
    "x = MaxPooling2D((2, 2,), padding='same')(x)\n",
    "x = Conv2D(128, (3, 3), activation='relu', padding='same', name='conv3')(x)\n",
    "encoded = MaxPooling2D((2, 2), padding='same')(x)\n",
    "\n",
    "# decoder\n",
    "decoded = Flatten()(encoded)\n",
    "decoded = Dense(3072, activation=\"sigmoid\")(decoded)\n",
    "decoded = Reshape((IMG_SIZE, IMG_SIZE, NUM_CHANNELS))(decoded)\n",
    "\n",
    "\n",
    "autoencoder = Model(input_img, decoded)\n",
    "autoencoder.compile(optimizer=Adam(lr=0.0012), loss='binary_crossentropy')\n",
    "autoencoder.summary()"
   ]
  },
  {
   "cell_type": "code",
   "execution_count": 68,
   "metadata": {},
   "outputs": [
    {
     "name": "stdout",
     "output_type": "stream",
     "text": [
      "Epoch 1/60\n",
      "10256/10256 [==============================] - 22s - loss: 0.5320    \n",
      "Epoch 2/60\n",
      "10256/10256 [==============================] - 24s - loss: 0.5318    \n",
      "Epoch 3/60\n",
      "10256/10256 [==============================] - 24s - loss: 0.5323    \n",
      "Epoch 4/60\n",
      "10256/10256 [==============================] - 23s - loss: 0.5318    \n",
      "Epoch 5/60\n",
      "10256/10256 [==============================] - 24s - loss: 0.5317    \n",
      "Epoch 6/60\n",
      "10256/10256 [==============================] - 24s - loss: 0.5316    \n",
      "Epoch 7/60\n",
      "10256/10256 [==============================] - 23s - loss: 0.5313    \n",
      "Epoch 8/60\n",
      "10256/10256 [==============================] - 23s - loss: 0.5314    \n",
      "Epoch 9/60\n",
      "10256/10256 [==============================] - 23s - loss: 0.5314    \n",
      "Epoch 10/60\n",
      "10256/10256 [==============================] - 24s - loss: 0.5312    \n",
      "Epoch 11/60\n",
      "10256/10256 [==============================] - 25s - loss: 0.5310    \n",
      "Epoch 12/60\n",
      "10256/10256 [==============================] - 25s - loss: 0.5311    \n",
      "Epoch 13/60\n",
      "10256/10256 [==============================] - 25s - loss: 0.5311    \n",
      "Epoch 14/60\n",
      "10256/10256 [==============================] - 24s - loss: 0.5308    \n",
      "Epoch 15/60\n",
      "10256/10256 [==============================] - 24s - loss: 0.5309    \n",
      "Epoch 16/60\n",
      "10256/10256 [==============================] - 24s - loss: 0.5310    \n",
      "Epoch 17/60\n",
      "10256/10256 [==============================] - 25s - loss: 0.5307    \n",
      "Epoch 18/60\n",
      "10256/10256 [==============================] - 24s - loss: 0.5307    \n",
      "Epoch 19/60\n",
      "10256/10256 [==============================] - 24s - loss: 0.5306    \n",
      "Epoch 20/60\n",
      "10256/10256 [==============================] - 23s - loss: 0.5308    \n",
      "Epoch 21/60\n",
      "10256/10256 [==============================] - 24s - loss: 0.5310    \n",
      "Epoch 22/60\n",
      "10256/10256 [==============================] - 24s - loss: 0.5303    \n",
      "Epoch 23/60\n",
      "10256/10256 [==============================] - 25s - loss: 0.5303    \n",
      "Epoch 24/60\n",
      "10256/10256 [==============================] - 23s - loss: 0.5306    \n",
      "Epoch 25/60\n",
      "10256/10256 [==============================] - 24s - loss: 0.5302    \n",
      "Epoch 26/60\n",
      "10256/10256 [==============================] - 23s - loss: 0.5302    \n",
      "Epoch 27/60\n",
      "10256/10256 [==============================] - 24s - loss: 0.5301    \n",
      "Epoch 28/60\n",
      "10256/10256 [==============================] - 23s - loss: 0.5300    \n",
      "Epoch 29/60\n",
      "10256/10256 [==============================] - 23s - loss: 0.5303    \n",
      "Epoch 30/60\n",
      "10256/10256 [==============================] - 23s - loss: 0.5300    \n",
      "Epoch 31/60\n",
      "10256/10256 [==============================] - 23s - loss: 0.5301    \n",
      "Epoch 32/60\n",
      "10256/10256 [==============================] - 23s - loss: 0.5299    \n",
      "Epoch 33/60\n",
      "10256/10256 [==============================] - 23s - loss: 0.5301    \n",
      "Epoch 34/60\n",
      "10256/10256 [==============================] - 23s - loss: 0.5298    \n",
      "Epoch 35/60\n",
      "10256/10256 [==============================] - 23s - loss: 0.5298    \n",
      "Epoch 36/60\n",
      "10256/10256 [==============================] - 23s - loss: 0.5297    \n",
      "Epoch 37/60\n",
      "10256/10256 [==============================] - 23s - loss: 0.5300    \n",
      "Epoch 38/60\n",
      "10256/10256 [==============================] - 23s - loss: 0.5295    \n",
      "Epoch 39/60\n",
      "10256/10256 [==============================] - 23s - loss: 0.5296    \n",
      "Epoch 40/60\n",
      "10256/10256 [==============================] - 23s - loss: 0.5304    \n",
      "Epoch 41/60\n",
      "10256/10256 [==============================] - 23s - loss: 0.5295    \n",
      "Epoch 42/60\n",
      "10256/10256 [==============================] - 23s - loss: 0.5295    \n",
      "Epoch 43/60\n",
      "10256/10256 [==============================] - 24s - loss: 0.5295    \n",
      "Epoch 44/60\n",
      "10256/10256 [==============================] - 23s - loss: 0.5293    \n",
      "Epoch 45/60\n",
      "10256/10256 [==============================] - 23s - loss: 0.5294    \n",
      "Epoch 46/60\n",
      "10256/10256 [==============================] - 23s - loss: 0.5296    \n",
      "Epoch 47/60\n",
      "10256/10256 [==============================] - 23s - loss: 0.5292    \n",
      "Epoch 48/60\n",
      "10256/10256 [==============================] - 23s - loss: 0.5294    \n",
      "Epoch 49/60\n",
      "10256/10256 [==============================] - 23s - loss: 0.5292    \n",
      "Epoch 50/60\n",
      "10256/10256 [==============================] - 22s - loss: 0.5292    \n",
      "Epoch 51/60\n",
      "10256/10256 [==============================] - 23s - loss: 0.5296    \n",
      "Epoch 52/60\n",
      "10256/10256 [==============================] - 23s - loss: 0.5291    \n",
      "Epoch 53/60\n",
      "10256/10256 [==============================] - 23s - loss: 0.5292    \n",
      "Epoch 54/60\n",
      "10256/10256 [==============================] - 23s - loss: 0.5289    \n",
      "Epoch 55/60\n",
      "10256/10256 [==============================] - 23s - loss: 0.5291    \n",
      "Epoch 56/60\n",
      "10256/10256 [==============================] - 22s - loss: 0.5290    \n",
      "Epoch 57/60\n",
      "10256/10256 [==============================] - 3630s - loss: 0.5291  \n",
      "Epoch 58/60\n",
      "10256/10256 [==============================] - 957s - loss: 0.5289   \n",
      "Epoch 59/60\n",
      "10256/10256 [==============================] - 460s - loss: 0.5288   \n",
      "Epoch 60/60\n",
      "10256/10256 [==============================] - 23s - loss: 0.5292    \n"
     ]
    },
    {
     "data": {
      "text/plain": [
       "<keras.callbacks.History at 0x32d123438>"
      ]
     },
     "execution_count": 68,
     "metadata": {},
     "output_type": "execute_result"
    }
   ],
   "source": [
    "\n",
    "# train\n",
    "autoencoder.fit(car_train, car_train,\n",
    "                epochs=60,\n",
    "                batch_size=256,\n",
    "                shuffle=True,\n",
    "                )"
   ]
  },
  {
   "cell_type": "markdown",
   "metadata": {},
   "source": [
    "#### (Optional) Save model"
   ]
  },
  {
   "cell_type": "code",
   "execution_count": 71,
   "metadata": {
    "collapsed": true
   },
   "outputs": [],
   "source": [
    "autoencoder.save(\"0.52392_car_convolutional_autoencoder\")\n"
   ]
  },
  {
   "cell_type": "markdown",
   "metadata": {},
   "source": [
    "### How well does it generalize to the test set?"
   ]
  },
  {
   "cell_type": "code",
   "execution_count": 69,
   "metadata": {
    "collapsed": true
   },
   "outputs": [],
   "source": [
    "decoded_imgs = autoencoder.predict(x_test)"
   ]
  },
  {
   "cell_type": "code",
   "execution_count": 76,
   "metadata": {},
   "outputs": [
    {
     "data": {
      "image/png": "[encoded data removed]",
      "text/plain": [
       "<matplotlib.figure.Figure at 0x32d06b780>"
      ]
     },
     "metadata": {},
     "output_type": "display_data"
    }
   ],
   "source": [
    "n = 10  # the number of panels to display\n",
    "plt.figure(figsize=(20, 4))\n",
    "for i in range(n):\n",
    "    # 50\n",
    "    index = i + 140\n",
    "    # display original\n",
    "    ax = plt.subplot(2, n, i + 1)\n",
    "    plt.imshow(x_test[index].reshape(IMG_SIZE, IMG_SIZE, 3))\n",
    "    plt.gray()\n",
    "    ax.get_xaxis().set_visible(False)\n",
    "    ax.get_yaxis().set_visible(False)\n",
    "\n",
    "    # display reconstruction\n",
    "    ax = plt.subplot(2, n, i + 1 + n)\n",
    "    plt.imshow(decoded_imgs[index].reshape(IMG_SIZE, IMG_SIZE, 3))\n",
    "    plt.gray()\n",
    "    ax.get_xaxis().set_visible(False)\n",
    "    ax.get_yaxis().set_visible(False)\n",
    "plt.show()"
   ]
  },
  {
   "cell_type": "markdown",
   "metadata": {},
   "source": [
    "### Visualizing the layers/filters"
   ]
  },
  {
   "cell_type": "markdown",
   "metadata": {},
   "source": [
    "\n"
   ]
  },
  {
   "cell_type": "code",
   "execution_count": null,
   "metadata": {
    "collapsed": true
   },
   "outputs": [],
   "source": []
  },
  {
   "cell_type": "markdown",
   "metadata": {},
   "source": [
    "### Are we actually learning car features? Using our autoencoder to classify cars (transfer learning)"
   ]
  },
  {
   "cell_type": "markdown",
   "metadata": {},
   "source": [
    "#### Training data"
   ]
  },
  {
   "cell_type": "code",
   "execution_count": 398,
   "metadata": {},
   "outputs": [],
   "source": [
    "(x_train, y_train, x_test, y_test) = get_CIFAR10()\n",
    "\n",
    "\"\"\"\n",
    "We want a 50/50 split of cars and \"not_cars\" (birds, dogs, trucks, etc.)\n",
    "Currently training set has a 1:9 split of cars and not_cars (50,000 examples: 5,000 cars and 45,000 not-cars). \n",
    "\n",
    "\"\"\"\n",
    "\n",
    "# get indices of not_cars - should be 45,000 of them\n",
    "indices_not_cars = np.where(y_train!=1)[0] # cars labeled with '1'\n",
    "\n",
    "# delete 90% of the not_car rows so it's roughly equal: 5,000 cars and 4,500 not-cars. \n",
    "rows_to_delete = np.delete(indices_not_cars, np.s_[0:4500], axis=0)\n",
    "x_train = np.delete(x_train, rows_to_delete, axis=0)\n",
    "y_train = np.delete(y_train, rows_to_delete, axis=0)\n",
    "\n",
    "# save the actual labels (0-9 for each class, like 'airplane', 'car', 'bird', etc.)\n",
    "actual_labels = np.copy(y_train)\n",
    "# set the labels of not_cars to 0\n",
    "indices_not_cars = np.where(y_train!=1)[0] \n",
    "y_train[indices_not_cars] = 0\n",
    "\n",
    "np.testing.assert_equal(x_train.shape[0], 9500)\n",
    "np.testing.assert_equal(np.sum(y_train), 5000)\n"
   ]
  },
  {
   "cell_type": "markdown",
   "metadata": {},
   "source": [
    "#### Load autoencoder, freeze its layers, and add a classifier layer to it"
   ]
  },
  {
   "cell_type": "code",
   "execution_count": 399,
   "metadata": {},
   "outputs": [
    {
     "name": "stdout",
     "output_type": "stream",
     "text": [
      "_________________________________________________________________\n",
      "Layer (type)                 Output Shape              Param #   \n",
      "=================================================================\n",
      "input_4 (InputLayer)         (None, 32, 32, 3)         0         \n",
      "_________________________________________________________________\n",
      "conv1 (Conv2D)               (None, 32, 32, 32)        896       \n",
      "_________________________________________________________________\n",
      "max_pooling2d_10 (MaxPooling (None, 16, 16, 32)        0         \n",
      "_________________________________________________________________\n",
      "conv2 (Conv2D)               (None, 16, 16, 64)        18496     \n",
      "_________________________________________________________________\n",
      "max_pooling2d_11 (MaxPooling (None, 8, 8, 64)          0         \n",
      "_________________________________________________________________\n",
      "conv3 (Conv2D)               (None, 8, 8, 128)         73856     \n",
      "_________________________________________________________________\n",
      "max_pooling2d_29 (MaxPooling (None, 4, 4, 128)         0         \n",
      "_________________________________________________________________\n",
      "flatten_15 (Flatten)         (None, 2048)              0         \n",
      "_________________________________________________________________\n",
      "dense_21 (Dense)             (None, 1)                 2049      \n",
      "=================================================================\n",
      "Total params: 95,297\n",
      "Trainable params: 2,049\n",
      "Non-trainable params: 93,248\n",
      "_________________________________________________________________\n"
     ]
    }
   ],
   "source": [
    "input_img = Input(shape=(IMG_SIZE, IMG_SIZE, NUM_CHANNELS))\n",
    "model_base = load_model(\"0.52392_car_convolutional_autoencoder\")\n",
    "\n",
    "# Freeze layers of the base model (our trained encoder)\n",
    "for layer in model_base.layers:\n",
    "    layer.trainable = False\n",
    "x = model_base.get_layer('conv3').output\n",
    "encoded = MaxPooling2D((2, 2), padding='same')(x)\n",
    "x = Flatten()(encoded)\n",
    "x = Dense(1, activation='sigmoid')(x)\n",
    "\n",
    "classifier = Model(model_base.input, x)\n",
    "classifier.compile(optimizer='adam', loss='binary_crossentropy', metrics=['accuracy'])\n",
    "classifier.summary()"
   ]
  },
  {
   "cell_type": "code",
   "execution_count": 748,
   "metadata": {},
   "outputs": [
    {
     "name": "stdout",
     "output_type": "stream",
     "text": [
      "Epoch 1/50\n",
      "9500/9500 [==============================] - 5s - loss: 0.1859 - acc: 0.9280     \n",
      "Epoch 2/50\n",
      "9500/9500 [==============================] - 5s - loss: 0.1869 - acc: 0.9280     \n",
      "Epoch 3/50\n",
      "9500/9500 [==============================] - 5s - loss: 0.1836 - acc: 0.9284     \n",
      "Epoch 4/50\n",
      "9500/9500 [==============================] - 5s - loss: 0.1845 - acc: 0.9315     \n",
      "Epoch 5/50\n",
      "9500/9500 [==============================] - 5s - loss: 0.1813 - acc: 0.9312     \n",
      "Epoch 6/50\n",
      "9500/9500 [==============================] - 6s - loss: 0.1819 - acc: 0.9311     \n",
      "Epoch 7/50\n",
      "9500/9500 [==============================] - 5s - loss: 0.1810 - acc: 0.9315     \n",
      "Epoch 8/50\n",
      "9500/9500 [==============================] - 5s - loss: 0.1809 - acc: 0.9328     \n",
      "Epoch 9/50\n",
      "9500/9500 [==============================] - 5s - loss: 0.1857 - acc: 0.9251     \n",
      "Epoch 10/50\n",
      "9500/9500 [==============================] - 5s - loss: 0.1810 - acc: 0.9306     \n",
      "Epoch 11/50\n",
      "9500/9500 [==============================] - 6s - loss: 0.1832 - acc: 0.9303     \n",
      "Epoch 12/50\n",
      "9500/9500 [==============================] - 6s - loss: 0.1803 - acc: 0.9323     \n",
      "Epoch 13/50\n",
      "9500/9500 [==============================] - 6s - loss: 0.1820 - acc: 0.9308     \n",
      "Epoch 14/50\n",
      "9500/9500 [==============================] - 6s - loss: 0.1811 - acc: 0.9316     \n",
      "Epoch 15/50\n",
      "9500/9500 [==============================] - 6s - loss: 0.1814 - acc: 0.9300     \n",
      "Epoch 16/50\n",
      "9500/9500 [==============================] - 6s - loss: 0.1802 - acc: 0.9331     \n",
      "Epoch 17/50\n",
      "9500/9500 [==============================] - 6s - loss: 0.1830 - acc: 0.9269     \n",
      "Epoch 18/50\n",
      "9500/9500 [==============================] - 6s - loss: 0.1815 - acc: 0.9319     \n",
      "Epoch 19/50\n",
      "9500/9500 [==============================] - 5s - loss: 0.1810 - acc: 0.9328     \n",
      "Epoch 20/50\n",
      "9500/9500 [==============================] - 5s - loss: 0.1835 - acc: 0.9287     \n",
      "Epoch 21/50\n",
      "9500/9500 [==============================] - 6s - loss: 0.1867 - acc: 0.9259     \n",
      "Epoch 22/50\n",
      "9500/9500 [==============================] - 6s - loss: 0.1804 - acc: 0.9296     \n",
      "Epoch 23/50\n",
      "9500/9500 [==============================] - 6s - loss: 0.1817 - acc: 0.9299     \n",
      "Epoch 24/50\n",
      "9500/9500 [==============================] - 6s - loss: 0.1797 - acc: 0.9321     \n",
      "Epoch 25/50\n",
      "9500/9500 [==============================] - 6s - loss: 0.1796 - acc: 0.9326     \n",
      "Epoch 26/50\n",
      "9500/9500 [==============================] - 6s - loss: 0.1796 - acc: 0.9334     \n",
      "Epoch 27/50\n",
      "9500/9500 [==============================] - 6s - loss: 0.1809 - acc: 0.9303     \n",
      "Epoch 28/50\n",
      "9500/9500 [==============================] - 6s - loss: 0.1800 - acc: 0.9308     \n",
      "Epoch 29/50\n",
      "9500/9500 [==============================] - 6s - loss: 0.1792 - acc: 0.9332     \n",
      "Epoch 30/50\n",
      "9500/9500 [==============================] - 6s - loss: 0.1809 - acc: 0.9321     \n",
      "Epoch 31/50\n",
      "9500/9500 [==============================] - 6s - loss: 0.1824 - acc: 0.9294     \n",
      "Epoch 32/50\n",
      "9500/9500 [==============================] - 5s - loss: 0.1790 - acc: 0.9307     \n",
      "Epoch 33/50\n",
      "9500/9500 [==============================] - 6s - loss: 0.1794 - acc: 0.9321     \n",
      "Epoch 34/50\n",
      "9500/9500 [==============================] - 6s - loss: 0.1807 - acc: 0.9299     \n",
      "Epoch 35/50\n",
      "9500/9500 [==============================] - 6s - loss: 0.1791 - acc: 0.9316     \n",
      "Epoch 36/50\n",
      "9500/9500 [==============================] - 5s - loss: 0.1818 - acc: 0.9303     \n",
      "Epoch 37/50\n",
      "9500/9500 [==============================] - 6s - loss: 0.1804 - acc: 0.9333     \n",
      "Epoch 38/50\n",
      "9500/9500 [==============================] - 6s - loss: 0.1796 - acc: 0.9306     \n",
      "Epoch 39/50\n",
      "9500/9500 [==============================] - 6s - loss: 0.1807 - acc: 0.9316     \n",
      "Epoch 40/50\n",
      "9500/9500 [==============================] - 5s - loss: 0.1826 - acc: 0.9296     \n",
      "Epoch 41/50\n",
      "9500/9500 [==============================] - 6s - loss: 0.1815 - acc: 0.9299     \n",
      "Epoch 42/50\n",
      "9500/9500 [==============================] - 6s - loss: 0.1783 - acc: 0.9327     \n",
      "Epoch 43/50\n",
      "9500/9500 [==============================] - 6s - loss: 0.1784 - acc: 0.9333     \n",
      "Epoch 44/50\n",
      "9500/9500 [==============================] - 6s - loss: 0.1797 - acc: 0.9303     \n",
      "Epoch 45/50\n",
      "9500/9500 [==============================] - 6s - loss: 0.1802 - acc: 0.9298     \n",
      "Epoch 46/50\n",
      "9500/9500 [==============================] - 5s - loss: 0.1787 - acc: 0.9333     \n",
      "Epoch 47/50\n",
      "9500/9500 [==============================] - 5s - loss: 0.1826 - acc: 0.9280     \n",
      "Epoch 48/50\n",
      "9500/9500 [==============================] - 5s - loss: 0.1803 - acc: 0.9306     \n",
      "Epoch 49/50\n",
      "9500/9500 [==============================] - 5s - loss: 0.1794 - acc: 0.9293     \n",
      "Epoch 50/50\n",
      "9500/9500 [==============================] - 5s - loss: 0.1777 - acc: 0.9340     \n"
     ]
    },
    {
     "data": {
      "text/plain": [
       "<keras.callbacks.History at 0x1a668a95c0>"
      ]
     },
     "execution_count": 748,
     "metadata": {},
     "output_type": "execute_result"
    }
   ],
   "source": [
    "\n",
    "# train\n",
    "classifier.fit(x_train, y_train,\n",
    "                epochs=50,\n",
    "                batch_size=256,\n",
    "                shuffle=True,\n",
    "                )"
   ]
  },
  {
   "cell_type": "code",
   "execution_count": 749,
   "metadata": {},
   "outputs": [
    {
     "name": "stdout",
     "output_type": "stream",
     "text": [
      "(10000, 1)\n"
     ]
    }
   ],
   "source": [
    "predictions = classifier.predict(x_test)\n",
    "predictions[predictions < 0.5] = 0\n",
    "predictions[predictions >= 0.5] = 1\n",
    "print(predictions.shape)"
   ]
  },
  {
   "cell_type": "code",
   "execution_count": 750,
   "metadata": {},
   "outputs": [
    {
     "name": "stdout",
     "output_type": "stream",
     "text": [
      "[ 1.]\n"
     ]
    },
    {
     "data": {
      "image/png": "[encoded data removed]",
      "text/plain": [
       "<matplotlib.figure.Figure at 0x34d14e1d0>"
      ]
     },
     "metadata": {},
     "output_type": "display_data"
    }
   ],
   "source": [
    "ind = random.randint(0, 9500)\n",
    "print(predictions[ind])\n",
    "plt.imshow(x_test[ind])\n",
    "plt.show()"
   ]
  },
  {
   "cell_type": "markdown",
   "metadata": {},
   "source": [
    "#### What does our classifier get confused by? "
   ]
  },
  {
   "cell_type": "code",
   "execution_count": 751,
   "metadata": {},
   "outputs": [
    {
     "name": "stdout",
     "output_type": "stream",
     "text": [
      "{'plane': 172, 'car': 876, 'bird': 58, 'cat': 88, 'deer': 56, 'dog': 62, 'frog': 103, 'horse': 95, 'ship': 279, 'truck': 522}\n",
      "{'plane': 1000, 'car': 1000, 'bird': 1000, 'cat': 1000, 'deer': 1000, 'dog': 1000, 'frog': 1000, 'horse': 1000, 'ship': 1000, 'truck': 1000}\n"
     ]
    }
   ],
   "source": [
    "# i have predictions: for every row, I have 0 or 1 the model's prediction on whether it's a car or not\n",
    "# I have labels for every row: 0-9 based on the type of object it is\n",
    "# I want to combine them so it's like\n",
    "# model  label\n",
    "# 1 .      4\n",
    "# 1 .      1\n",
    "# 1 .      6\n",
    "# 0 .      1\n",
    "\n",
    "# I want to construct a table\n",
    "# so 4 has 5 1's, label 6 has 20 1's\n",
    "# I want to filter it\n",
    "# for every row, \n",
    "# if model's prediction is 1\n",
    "# table[category[label]] += 1\n",
    "\n",
    "# I have a dictionary from label (0 to 9) to its object (car, etc.) \n",
    "\n",
    "category_of = ['plane', 'car', 'bird', 'cat', 'deer', 'dog', 'frog', 'horse', 'ship', 'truck']\n",
    "table = {\n",
    "    'plane': 0,\n",
    "    'car': 0, \n",
    "    'bird': 0, \n",
    "    'cat': 0,\n",
    "    'deer': 0,\n",
    "    'dog': 0,\n",
    "    'frog': 0,\n",
    "    'horse': 0,\n",
    "    'ship': 0,\n",
    "    'truck': 0\n",
    "}\n",
    "\n",
    "total_counts = {\n",
    "    'plane': 0,\n",
    "    'car': 0, \n",
    "    'bird': 0, \n",
    "    'cat': 0,\n",
    "    'deer': 0,\n",
    "    'dog': 0,\n",
    "    'frog': 0,\n",
    "    'horse': 0,\n",
    "    'ship': 0,\n",
    "    'truck': 0\n",
    "}\n",
    "\n",
    "for i in range(predictions.shape[0]):\n",
    "    c = category_of[y_test[i][0]]\n",
    "    total_counts[c] += 1\n",
    "    if predictions[i] == 1:\n",
    "        table[c] += 1\n",
    "        \n",
    "print(table)\n",
    "print(total_counts)\n"
   ]
  },
  {
   "cell_type": "markdown",
   "metadata": {},
   "source": [
    "### How much of each category does our classifier think is a car?\n",
    "\n",
    "#### 'car': 872/1000  \n",
    "#### 'truck': 514/1000  \n",
    "#### 'ship': 267/1000  \n",
    "#### 'plane': 163/1000  \n",
    "#### 'frog': 94/1000  \n",
    "#### 'horse': 83/1000  \n",
    "#### 'cat': 80/1000  \n",
    "#### 'bird': 52/1000  \n",
    "#### 'dog': 50/1000  "
   ]
  }
 ],
 "metadata": {
  "kernelspec": {
   "display_name": "Python 3",
   "language": "python",
   "name": "python3"
  },
  "language_info": {
   "codemirror_mode": {
    "name": "ipython",
    "version": 3
   },
   "file_extension": ".py",
   "mimetype": "text/x-python",
   "name": "python",
   "nbconvert_exporter": "python",
   "pygments_lexer": "ipython3",
   "version": "3.6.2"
  }
 },
 "nbformat": 4,
 "nbformat_minor": 2
}
