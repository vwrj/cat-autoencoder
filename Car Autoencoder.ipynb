{
 "cells": [
  {
   "cell_type": "markdown",
   "metadata": {},
   "source": [
    "# Car Autoencoder (CIFAR-10)"
   ]
  },
  {
   "cell_type": "code",
   "execution_count": 14,
   "metadata": {},
   "outputs": [],
   "source": [
    "# Importing packages, defining constants\n",
    "from keras.layers import Input, Dense, Conv2D, Conv3D, MaxPooling2D, UpSampling2D, Flatten\n",
    "from keras.models import Model, load_model \n",
    "from keras.datasets import mnist, cifar10\n",
    "from image_utils import read_and_process_image, get_images_train, is_cat\n",
    "import numpy as np\n",
    "import matplotlib.pyplot as plt\n",
    "import os\n",
    "import cv2\n",
    "\n",
    "TRAIN_DIR = '/Users/vwr/images/train'\n",
    "TEST_DIR = '/Users/vwr/images/test'\n",
    "IMG_SIZE = 32"
   ]
  },
  {
   "cell_type": "markdown",
   "metadata": {},
   "source": [
    "## Training Data"
   ]
  },
  {
   "cell_type": "code",
   "execution_count": 15,
   "metadata": {},
   "outputs": [
    {
     "name": "stdout",
     "output_type": "stream",
     "text": [
      "Fetching and processing images from directory:  /Users/vwr/images/train\n",
      "Saved training data into:  cat_train.npy\n",
      "Shape of training data: (12500, 1024)\n",
      "Fetching and processing images from directory:  /Users/vwr/images/train\n",
      "Saved training data into:  cat_train_noisy.npy\n",
      "Shape of training data: (12500, 1024)\n"
     ]
    }
   ],
   "source": [
    "cat_train = get_images_train('cat_train.npy', \n",
    "                             train_dir = '/Users/vwr/images/train', \n",
    "                             refresh=True, \n",
    "                             filter_func=is_cat,\n",
    "                             gray_flag=True) \n",
    "\n",
    "cat_train_noisy = get_images_train('cat_train_noisy.npy', \n",
    "                                   train_dir = '/Users/vwr/images/train', \n",
    "                                   add_noise=True,\n",
    "                                   refresh=True, \n",
    "                                   gray_flag=True,\n",
    "                                   filter_func=is_cat)"
   ]
  }
 ],
 "metadata": {
  "kernelspec": {
   "display_name": "Python 3",
   "language": "python",
   "name": "python3"
  },
  "language_info": {
   "codemirror_mode": {
    "name": "ipython",
    "version": 3
   },
   "file_extension": ".py",
   "mimetype": "text/x-python",
   "name": "python",
   "nbconvert_exporter": "python",
   "pygments_lexer": "ipython3",
   "version": "3.6.2"
  }
 },
 "nbformat": 4,
 "nbformat_minor": 2
}
